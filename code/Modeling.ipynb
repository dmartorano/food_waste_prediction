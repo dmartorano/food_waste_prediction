{
 "cells": [
  {
   "cell_type": "markdown",
   "metadata": {},
   "source": [
    "# Modeling"
   ]
  },
  {
   "cell_type": "markdown",
   "metadata": {},
   "source": [
    "## Imports"
   ]
  },
  {
   "cell_type": "code",
   "execution_count": 2,
   "metadata": {},
   "outputs": [],
   "source": [
    "import numpy as np\n",
    "import pandas as pd\n",
    "import matplotlib.pyplot as plt\n",
    "import dtreeviz\n",
    "import seaborn as sns\n",
    "import pickle\n",
    "\n",
    "from sklearn.model_selection import train_test_split, GridSearchCV, cross_val_score\n",
    "from sklearn.preprocessing import StandardScaler\n",
    "from sklearn.linear_model import LinearRegression, Ridge, RidgeCV, Lasso, LassoCV\n",
    "from sklearn.tree import DecisionTreeRegressor\n",
    "from sklearn.ensemble import RandomForestRegressor\n",
    "from sklearn import metrics"
   ]
  },
  {
   "cell_type": "code",
   "execution_count": 3,
   "metadata": {},
   "outputs": [],
   "source": [
    "df = pd.read_csv(\"../data/clean_us_food_waste.csv\")"
   ]
  },
  {
   "cell_type": "markdown",
   "metadata": {},
   "source": [
    "### Feature Selection"
   ]
  },
  {
   "cell_type": "code",
   "execution_count": 56,
   "metadata": {},
   "outputs": [],
   "source": [
    "pd.set_option('display.max_columns', None)"
   ]
  },
  {
   "cell_type": "code",
   "execution_count": 76,
   "metadata": {},
   "outputs": [
    {
     "data": {
      "text/html": [
       "<div>\n",
       "<style scoped>\n",
       "    .dataframe tbody tr th:only-of-type {\n",
       "        vertical-align: middle;\n",
       "    }\n",
       "\n",
       "    .dataframe tbody tr th {\n",
       "        vertical-align: top;\n",
       "    }\n",
       "\n",
       "    .dataframe thead th {\n",
       "        text-align: right;\n",
       "    }\n",
       "</style>\n",
       "<table border=\"1\" class=\"dataframe\">\n",
       "  <thead>\n",
       "    <tr style=\"text-align: right;\">\n",
       "      <th></th>\n",
       "      <th>year</th>\n",
       "      <th>tons_surplus</th>\n",
       "      <th>tons_supply</th>\n",
       "      <th>us_dollars_surplus</th>\n",
       "      <th>tons_waste</th>\n",
       "      <th>tons_uneaten</th>\n",
       "      <th>tons_inedible_parts</th>\n",
       "      <th>tons_not_fit_for_human_consumption</th>\n",
       "      <th>tons_donated</th>\n",
       "      <th>tons_biomaterial_processing</th>\n",
       "      <th>tons_animal_feed</th>\n",
       "      <th>tons_anaerobically_digested</th>\n",
       "      <th>tons_composted</th>\n",
       "      <th>tons_not_harvested</th>\n",
       "      <th>tons_incinerated</th>\n",
       "      <th>tons_land_application</th>\n",
       "      <th>tons_landfilled</th>\n",
       "      <th>tons_sewer</th>\n",
       "      <th>tons_refuse_discards</th>\n",
       "      <th>total_mtco2e_footprint</th>\n",
       "      <th>gallons_water_footprint</th>\n",
       "      <th>meals_wasted</th>\n",
       "      <th>sector_farm</th>\n",
       "      <th>sector_foodservice</th>\n",
       "      <th>sector_manufacturing</th>\n",
       "      <th>sector_residential</th>\n",
       "      <th>sector_retail</th>\n",
       "      <th>food_type_breads_&amp;_bakery</th>\n",
       "      <th>food_type_dairy_&amp;_eggs</th>\n",
       "      <th>food_type_dry_goods</th>\n",
       "      <th>food_type_fresh_meat_&amp;_seafood</th>\n",
       "      <th>food_type_frozen</th>\n",
       "      <th>food_type_prepared_foods</th>\n",
       "      <th>food_type_produce</th>\n",
       "      <th>food_type_ready-to-drink_beverages</th>\n",
       "      <th>tons_productive_surplus</th>\n",
       "      <th>tons_unproductive_surplus</th>\n",
       "      <th>tons_consumed</th>\n",
       "    </tr>\n",
       "  </thead>\n",
       "  <tbody>\n",
       "    <tr>\n",
       "      <th>11742</th>\n",
       "      <td>2010</td>\n",
       "      <td>48394.263240</td>\n",
       "      <td>9.415226e+05</td>\n",
       "      <td>2.073471e+08</td>\n",
       "      <td>27948.415800</td>\n",
       "      <td>39147.373780</td>\n",
       "      <td>4355.483692</td>\n",
       "      <td>12955.837740</td>\n",
       "      <td>9246.889460</td>\n",
       "      <td>2236.005768</td>\n",
       "      <td>8962.952220</td>\n",
       "      <td>2328.285371</td>\n",
       "      <td>8681.381123</td>\n",
       "      <td>0.0</td>\n",
       "      <td>1962.581986</td>\n",
       "      <td>565.508337</td>\n",
       "      <td>14410.658980</td>\n",
       "      <td>0.0</td>\n",
       "      <td>0.0</td>\n",
       "      <td>68147.77106</td>\n",
       "      <td>1.761498e+09</td>\n",
       "      <td>6.524562e+07</td>\n",
       "      <td>0</td>\n",
       "      <td>0</td>\n",
       "      <td>0</td>\n",
       "      <td>0</td>\n",
       "      <td>1</td>\n",
       "      <td>0</td>\n",
       "      <td>0</td>\n",
       "      <td>0</td>\n",
       "      <td>0</td>\n",
       "      <td>0</td>\n",
       "      <td>0</td>\n",
       "      <td>1</td>\n",
       "      <td>0</td>\n",
       "      <td>32021.022279</td>\n",
       "      <td>16373.240966</td>\n",
       "      <td>8.931284e+05</td>\n",
       "    </tr>\n",
       "    <tr>\n",
       "      <th>11743</th>\n",
       "      <td>2010</td>\n",
       "      <td>23183.197300</td>\n",
       "      <td>4.510350e+05</td>\n",
       "      <td>1.526912e+08</td>\n",
       "      <td>13388.645560</td>\n",
       "      <td>18753.489140</td>\n",
       "      <td>0.000000</td>\n",
       "      <td>6206.474123</td>\n",
       "      <td>4429.708159</td>\n",
       "      <td>1071.155120</td>\n",
       "      <td>4293.688461</td>\n",
       "      <td>1115.361522</td>\n",
       "      <td>4158.802261</td>\n",
       "      <td>0.0</td>\n",
       "      <td>1201.969340</td>\n",
       "      <td>270.905898</td>\n",
       "      <td>6641.606536</td>\n",
       "      <td>0.0</td>\n",
       "      <td>0.0</td>\n",
       "      <td>32789.52165</td>\n",
       "      <td>8.438428e+08</td>\n",
       "      <td>3.125582e+07</td>\n",
       "      <td>0</td>\n",
       "      <td>0</td>\n",
       "      <td>0</td>\n",
       "      <td>0</td>\n",
       "      <td>1</td>\n",
       "      <td>0</td>\n",
       "      <td>0</td>\n",
       "      <td>0</td>\n",
       "      <td>0</td>\n",
       "      <td>0</td>\n",
       "      <td>0</td>\n",
       "      <td>1</td>\n",
       "      <td>0</td>\n",
       "      <td>15339.621421</td>\n",
       "      <td>7843.575876</td>\n",
       "      <td>4.278518e+05</td>\n",
       "    </tr>\n",
       "    <tr>\n",
       "      <th>11744</th>\n",
       "      <td>2010</td>\n",
       "      <td>11865.781840</td>\n",
       "      <td>2.308518e+05</td>\n",
       "      <td>7.220645e+07</td>\n",
       "      <td>6852.667699</td>\n",
       "      <td>9598.538456</td>\n",
       "      <td>0.000000</td>\n",
       "      <td>3176.639830</td>\n",
       "      <td>2267.243381</td>\n",
       "      <td>548.245905</td>\n",
       "      <td>2197.624853</td>\n",
       "      <td>570.871926</td>\n",
       "      <td>2128.586480</td>\n",
       "      <td>0.0</td>\n",
       "      <td>594.256771</td>\n",
       "      <td>138.656901</td>\n",
       "      <td>3420.295621</td>\n",
       "      <td>0.0</td>\n",
       "      <td>0.0</td>\n",
       "      <td>16771.08145</td>\n",
       "      <td>4.319014e+08</td>\n",
       "      <td>1.599756e+07</td>\n",
       "      <td>0</td>\n",
       "      <td>0</td>\n",
       "      <td>0</td>\n",
       "      <td>0</td>\n",
       "      <td>1</td>\n",
       "      <td>0</td>\n",
       "      <td>0</td>\n",
       "      <td>0</td>\n",
       "      <td>0</td>\n",
       "      <td>0</td>\n",
       "      <td>0</td>\n",
       "      <td>1</td>\n",
       "      <td>0</td>\n",
       "      <td>7851.229445</td>\n",
       "      <td>4014.552392</td>\n",
       "      <td>2.189860e+05</td>\n",
       "    </tr>\n",
       "    <tr>\n",
       "      <th>11745</th>\n",
       "      <td>2010</td>\n",
       "      <td>86546.815550</td>\n",
       "      <td>1.683790e+06</td>\n",
       "      <td>6.513721e+07</td>\n",
       "      <td>49982.089290</td>\n",
       "      <td>70009.962150</td>\n",
       "      <td>41542.471460</td>\n",
       "      <td>23169.822710</td>\n",
       "      <td>16536.853400</td>\n",
       "      <td>3998.804110</td>\n",
       "      <td>16029.068750</td>\n",
       "      <td>4163.834120</td>\n",
       "      <td>15525.515640</td>\n",
       "      <td>0.0</td>\n",
       "      <td>3032.182571</td>\n",
       "      <td>1011.337759</td>\n",
       "      <td>26249.219200</td>\n",
       "      <td>0.0</td>\n",
       "      <td>0.0</td>\n",
       "      <td>121611.68810</td>\n",
       "      <td>3.150208e+09</td>\n",
       "      <td>1.166833e+08</td>\n",
       "      <td>0</td>\n",
       "      <td>0</td>\n",
       "      <td>0</td>\n",
       "      <td>0</td>\n",
       "      <td>1</td>\n",
       "      <td>0</td>\n",
       "      <td>0</td>\n",
       "      <td>0</td>\n",
       "      <td>0</td>\n",
       "      <td>0</td>\n",
       "      <td>0</td>\n",
       "      <td>1</td>\n",
       "      <td>0</td>\n",
       "      <td>57265.413779</td>\n",
       "      <td>29281.401771</td>\n",
       "      <td>1.597243e+06</td>\n",
       "    </tr>\n",
       "    <tr>\n",
       "      <th>11746</th>\n",
       "      <td>2010</td>\n",
       "      <td>6901.530143</td>\n",
       "      <td>3.350257e+05</td>\n",
       "      <td>3.026245e+07</td>\n",
       "      <td>5185.784409</td>\n",
       "      <td>5185.784409</td>\n",
       "      <td>0.000000</td>\n",
       "      <td>3866.407720</td>\n",
       "      <td>1715.745735</td>\n",
       "      <td>0.000000</td>\n",
       "      <td>0.000000</td>\n",
       "      <td>432.009673</td>\n",
       "      <td>1610.816556</td>\n",
       "      <td>0.0</td>\n",
       "      <td>342.684470</td>\n",
       "      <td>104.929179</td>\n",
       "      <td>2695.344531</td>\n",
       "      <td>0.0</td>\n",
       "      <td>0.0</td>\n",
       "      <td>18919.48149</td>\n",
       "      <td>9.962302e+07</td>\n",
       "      <td>8.642974e+06</td>\n",
       "      <td>0</td>\n",
       "      <td>0</td>\n",
       "      <td>0</td>\n",
       "      <td>0</td>\n",
       "      <td>1</td>\n",
       "      <td>0</td>\n",
       "      <td>0</td>\n",
       "      <td>0</td>\n",
       "      <td>0</td>\n",
       "      <td>0</td>\n",
       "      <td>0</td>\n",
       "      <td>0</td>\n",
       "      <td>1</td>\n",
       "      <td>3863.501143</td>\n",
       "      <td>3038.029001</td>\n",
       "      <td>3.281242e+05</td>\n",
       "    </tr>\n",
       "    <tr>\n",
       "      <th>11747</th>\n",
       "      <td>2010</td>\n",
       "      <td>212604.756700</td>\n",
       "      <td>1.032062e+07</td>\n",
       "      <td>2.693448e+08</td>\n",
       "      <td>159750.433600</td>\n",
       "      <td>159750.433600</td>\n",
       "      <td>0.000000</td>\n",
       "      <td>119106.438100</td>\n",
       "      <td>52854.323170</td>\n",
       "      <td>0.000000</td>\n",
       "      <td>0.000000</td>\n",
       "      <td>13308.253330</td>\n",
       "      <td>49621.932370</td>\n",
       "      <td>0.0</td>\n",
       "      <td>12682.566090</td>\n",
       "      <td>3232.390798</td>\n",
       "      <td>80905.290990</td>\n",
       "      <td>0.0</td>\n",
       "      <td>0.0</td>\n",
       "      <td>584447.89950</td>\n",
       "      <td>3.068932e+09</td>\n",
       "      <td>2.662507e+08</td>\n",
       "      <td>0</td>\n",
       "      <td>0</td>\n",
       "      <td>0</td>\n",
       "      <td>0</td>\n",
       "      <td>1</td>\n",
       "      <td>0</td>\n",
       "      <td>0</td>\n",
       "      <td>0</td>\n",
       "      <td>0</td>\n",
       "      <td>0</td>\n",
       "      <td>0</td>\n",
       "      <td>0</td>\n",
       "      <td>1</td>\n",
       "      <td>119016.899668</td>\n",
       "      <td>93587.857080</td>\n",
       "      <td>1.010801e+07</td>\n",
       "    </tr>\n",
       "    <tr>\n",
       "      <th>11748</th>\n",
       "      <td>2010</td>\n",
       "      <td>5299.527093</td>\n",
       "      <td>2.572586e+05</td>\n",
       "      <td>2.083460e+07</td>\n",
       "      <td>3982.045199</td>\n",
       "      <td>3982.045199</td>\n",
       "      <td>0.000000</td>\n",
       "      <td>2968.926027</td>\n",
       "      <td>1317.481894</td>\n",
       "      <td>0.000000</td>\n",
       "      <td>0.000000</td>\n",
       "      <td>331.730344</td>\n",
       "      <td>1236.909178</td>\n",
       "      <td>0.0</td>\n",
       "      <td>340.027917</td>\n",
       "      <td>80.572716</td>\n",
       "      <td>1992.805044</td>\n",
       "      <td>0.0</td>\n",
       "      <td>0.0</td>\n",
       "      <td>14586.59562</td>\n",
       "      <td>7.649824e+07</td>\n",
       "      <td>6.636742e+06</td>\n",
       "      <td>0</td>\n",
       "      <td>0</td>\n",
       "      <td>0</td>\n",
       "      <td>0</td>\n",
       "      <td>1</td>\n",
       "      <td>0</td>\n",
       "      <td>0</td>\n",
       "      <td>0</td>\n",
       "      <td>0</td>\n",
       "      <td>0</td>\n",
       "      <td>0</td>\n",
       "      <td>0</td>\n",
       "      <td>1</td>\n",
       "      <td>2966.694132</td>\n",
       "      <td>2332.832961</td>\n",
       "      <td>2.519591e+05</td>\n",
       "    </tr>\n",
       "    <tr>\n",
       "      <th>11749</th>\n",
       "      <td>2010</td>\n",
       "      <td>7146.858951</td>\n",
       "      <td>3.469349e+05</td>\n",
       "      <td>3.373336e+07</td>\n",
       "      <td>5370.123574</td>\n",
       "      <td>5370.123574</td>\n",
       "      <td>0.000000</td>\n",
       "      <td>4003.846980</td>\n",
       "      <td>1776.735377</td>\n",
       "      <td>0.000000</td>\n",
       "      <td>0.000000</td>\n",
       "      <td>447.366328</td>\n",
       "      <td>1668.076279</td>\n",
       "      <td>0.0</td>\n",
       "      <td>421.276939</td>\n",
       "      <td>108.659098</td>\n",
       "      <td>2724.744929</td>\n",
       "      <td>0.0</td>\n",
       "      <td>0.0</td>\n",
       "      <td>19642.76444</td>\n",
       "      <td>1.031643e+08</td>\n",
       "      <td>8.950206e+06</td>\n",
       "      <td>0</td>\n",
       "      <td>0</td>\n",
       "      <td>0</td>\n",
       "      <td>0</td>\n",
       "      <td>1</td>\n",
       "      <td>0</td>\n",
       "      <td>0</td>\n",
       "      <td>0</td>\n",
       "      <td>0</td>\n",
       "      <td>0</td>\n",
       "      <td>0</td>\n",
       "      <td>0</td>\n",
       "      <td>1</td>\n",
       "      <td>4000.837082</td>\n",
       "      <td>3146.021868</td>\n",
       "      <td>3.397880e+05</td>\n",
       "    </tr>\n",
       "    <tr>\n",
       "      <th>11750</th>\n",
       "      <td>2010</td>\n",
       "      <td>7190.466548</td>\n",
       "      <td>3.490518e+05</td>\n",
       "      <td>7.970289e+06</td>\n",
       "      <td>5402.890162</td>\n",
       "      <td>5402.890162</td>\n",
       "      <td>0.000000</td>\n",
       "      <td>4028.277034</td>\n",
       "      <td>1787.576386</td>\n",
       "      <td>0.000000</td>\n",
       "      <td>0.000000</td>\n",
       "      <td>450.095999</td>\n",
       "      <td>1678.254289</td>\n",
       "      <td>0.0</td>\n",
       "      <td>392.556475</td>\n",
       "      <td>109.322097</td>\n",
       "      <td>2772.661302</td>\n",
       "      <td>0.0</td>\n",
       "      <td>0.0</td>\n",
       "      <td>19738.70484</td>\n",
       "      <td>1.037938e+08</td>\n",
       "      <td>9.004817e+06</td>\n",
       "      <td>0</td>\n",
       "      <td>0</td>\n",
       "      <td>0</td>\n",
       "      <td>0</td>\n",
       "      <td>1</td>\n",
       "      <td>0</td>\n",
       "      <td>0</td>\n",
       "      <td>0</td>\n",
       "      <td>0</td>\n",
       "      <td>0</td>\n",
       "      <td>0</td>\n",
       "      <td>0</td>\n",
       "      <td>1</td>\n",
       "      <td>4025.248771</td>\n",
       "      <td>3165.217777</td>\n",
       "      <td>3.418613e+05</td>\n",
       "    </tr>\n",
       "    <tr>\n",
       "      <th>11751</th>\n",
       "      <td>2010</td>\n",
       "      <td>72238.070640</td>\n",
       "      <td>3.506702e+06</td>\n",
       "      <td>6.858081e+07</td>\n",
       "      <td>54279.421030</td>\n",
       "      <td>54279.421030</td>\n",
       "      <td>0.000000</td>\n",
       "      <td>40469.552140</td>\n",
       "      <td>17958.649600</td>\n",
       "      <td>0.000000</td>\n",
       "      <td>0.000000</td>\n",
       "      <td>4521.829890</td>\n",
       "      <td>16860.359620</td>\n",
       "      <td>0.0</td>\n",
       "      <td>4738.200352</td>\n",
       "      <td>1098.289983</td>\n",
       "      <td>27060.741190</td>\n",
       "      <td>0.0</td>\n",
       "      <td>0.0</td>\n",
       "      <td>198909.39840</td>\n",
       "      <td>1.042751e+09</td>\n",
       "      <td>9.046570e+07</td>\n",
       "      <td>0</td>\n",
       "      <td>0</td>\n",
       "      <td>0</td>\n",
       "      <td>0</td>\n",
       "      <td>1</td>\n",
       "      <td>0</td>\n",
       "      <td>0</td>\n",
       "      <td>0</td>\n",
       "      <td>0</td>\n",
       "      <td>0</td>\n",
       "      <td>0</td>\n",
       "      <td>0</td>\n",
       "      <td>1</td>\n",
       "      <td>40439.129093</td>\n",
       "      <td>31798.941542</td>\n",
       "      <td>3.434464e+06</td>\n",
       "    </tr>\n",
       "  </tbody>\n",
       "</table>\n",
       "</div>"
      ],
      "text/plain": [
       "       year   tons_surplus   tons_supply  us_dollars_surplus     tons_waste  \\\n",
       "11742  2010   48394.263240  9.415226e+05        2.073471e+08   27948.415800   \n",
       "11743  2010   23183.197300  4.510350e+05        1.526912e+08   13388.645560   \n",
       "11744  2010   11865.781840  2.308518e+05        7.220645e+07    6852.667699   \n",
       "11745  2010   86546.815550  1.683790e+06        6.513721e+07   49982.089290   \n",
       "11746  2010    6901.530143  3.350257e+05        3.026245e+07    5185.784409   \n",
       "11747  2010  212604.756700  1.032062e+07        2.693448e+08  159750.433600   \n",
       "11748  2010    5299.527093  2.572586e+05        2.083460e+07    3982.045199   \n",
       "11749  2010    7146.858951  3.469349e+05        3.373336e+07    5370.123574   \n",
       "11750  2010    7190.466548  3.490518e+05        7.970289e+06    5402.890162   \n",
       "11751  2010   72238.070640  3.506702e+06        6.858081e+07   54279.421030   \n",
       "\n",
       "        tons_uneaten  tons_inedible_parts  tons_not_fit_for_human_consumption  \\\n",
       "11742   39147.373780          4355.483692                        12955.837740   \n",
       "11743   18753.489140             0.000000                         6206.474123   \n",
       "11744    9598.538456             0.000000                         3176.639830   \n",
       "11745   70009.962150         41542.471460                        23169.822710   \n",
       "11746    5185.784409             0.000000                         3866.407720   \n",
       "11747  159750.433600             0.000000                       119106.438100   \n",
       "11748    3982.045199             0.000000                         2968.926027   \n",
       "11749    5370.123574             0.000000                         4003.846980   \n",
       "11750    5402.890162             0.000000                         4028.277034   \n",
       "11751   54279.421030             0.000000                        40469.552140   \n",
       "\n",
       "       tons_donated  tons_biomaterial_processing  tons_animal_feed  \\\n",
       "11742   9246.889460                  2236.005768       8962.952220   \n",
       "11743   4429.708159                  1071.155120       4293.688461   \n",
       "11744   2267.243381                   548.245905       2197.624853   \n",
       "11745  16536.853400                  3998.804110      16029.068750   \n",
       "11746   1715.745735                     0.000000          0.000000   \n",
       "11747  52854.323170                     0.000000          0.000000   \n",
       "11748   1317.481894                     0.000000          0.000000   \n",
       "11749   1776.735377                     0.000000          0.000000   \n",
       "11750   1787.576386                     0.000000          0.000000   \n",
       "11751  17958.649600                     0.000000          0.000000   \n",
       "\n",
       "       tons_anaerobically_digested  tons_composted  tons_not_harvested  \\\n",
       "11742                  2328.285371     8681.381123                 0.0   \n",
       "11743                  1115.361522     4158.802261                 0.0   \n",
       "11744                   570.871926     2128.586480                 0.0   \n",
       "11745                  4163.834120    15525.515640                 0.0   \n",
       "11746                   432.009673     1610.816556                 0.0   \n",
       "11747                 13308.253330    49621.932370                 0.0   \n",
       "11748                   331.730344     1236.909178                 0.0   \n",
       "11749                   447.366328     1668.076279                 0.0   \n",
       "11750                   450.095999     1678.254289                 0.0   \n",
       "11751                  4521.829890    16860.359620                 0.0   \n",
       "\n",
       "       tons_incinerated  tons_land_application  tons_landfilled  tons_sewer  \\\n",
       "11742       1962.581986             565.508337     14410.658980         0.0   \n",
       "11743       1201.969340             270.905898      6641.606536         0.0   \n",
       "11744        594.256771             138.656901      3420.295621         0.0   \n",
       "11745       3032.182571            1011.337759     26249.219200         0.0   \n",
       "11746        342.684470             104.929179      2695.344531         0.0   \n",
       "11747      12682.566090            3232.390798     80905.290990         0.0   \n",
       "11748        340.027917              80.572716      1992.805044         0.0   \n",
       "11749        421.276939             108.659098      2724.744929         0.0   \n",
       "11750        392.556475             109.322097      2772.661302         0.0   \n",
       "11751       4738.200352            1098.289983     27060.741190         0.0   \n",
       "\n",
       "       tons_refuse_discards  total_mtco2e_footprint  gallons_water_footprint  \\\n",
       "11742                   0.0             68147.77106             1.761498e+09   \n",
       "11743                   0.0             32789.52165             8.438428e+08   \n",
       "11744                   0.0             16771.08145             4.319014e+08   \n",
       "11745                   0.0            121611.68810             3.150208e+09   \n",
       "11746                   0.0             18919.48149             9.962302e+07   \n",
       "11747                   0.0            584447.89950             3.068932e+09   \n",
       "11748                   0.0             14586.59562             7.649824e+07   \n",
       "11749                   0.0             19642.76444             1.031643e+08   \n",
       "11750                   0.0             19738.70484             1.037938e+08   \n",
       "11751                   0.0            198909.39840             1.042751e+09   \n",
       "\n",
       "       meals_wasted  sector_farm  sector_foodservice  sector_manufacturing  \\\n",
       "11742  6.524562e+07            0                   0                     0   \n",
       "11743  3.125582e+07            0                   0                     0   \n",
       "11744  1.599756e+07            0                   0                     0   \n",
       "11745  1.166833e+08            0                   0                     0   \n",
       "11746  8.642974e+06            0                   0                     0   \n",
       "11747  2.662507e+08            0                   0                     0   \n",
       "11748  6.636742e+06            0                   0                     0   \n",
       "11749  8.950206e+06            0                   0                     0   \n",
       "11750  9.004817e+06            0                   0                     0   \n",
       "11751  9.046570e+07            0                   0                     0   \n",
       "\n",
       "       sector_residential  sector_retail  food_type_breads_&_bakery  \\\n",
       "11742                   0              1                          0   \n",
       "11743                   0              1                          0   \n",
       "11744                   0              1                          0   \n",
       "11745                   0              1                          0   \n",
       "11746                   0              1                          0   \n",
       "11747                   0              1                          0   \n",
       "11748                   0              1                          0   \n",
       "11749                   0              1                          0   \n",
       "11750                   0              1                          0   \n",
       "11751                   0              1                          0   \n",
       "\n",
       "       food_type_dairy_&_eggs  food_type_dry_goods  \\\n",
       "11742                       0                    0   \n",
       "11743                       0                    0   \n",
       "11744                       0                    0   \n",
       "11745                       0                    0   \n",
       "11746                       0                    0   \n",
       "11747                       0                    0   \n",
       "11748                       0                    0   \n",
       "11749                       0                    0   \n",
       "11750                       0                    0   \n",
       "11751                       0                    0   \n",
       "\n",
       "       food_type_fresh_meat_&_seafood  food_type_frozen  \\\n",
       "11742                               0                 0   \n",
       "11743                               0                 0   \n",
       "11744                               0                 0   \n",
       "11745                               0                 0   \n",
       "11746                               0                 0   \n",
       "11747                               0                 0   \n",
       "11748                               0                 0   \n",
       "11749                               0                 0   \n",
       "11750                               0                 0   \n",
       "11751                               0                 0   \n",
       "\n",
       "       food_type_prepared_foods  food_type_produce  \\\n",
       "11742                         0                  1   \n",
       "11743                         0                  1   \n",
       "11744                         0                  1   \n",
       "11745                         0                  1   \n",
       "11746                         0                  0   \n",
       "11747                         0                  0   \n",
       "11748                         0                  0   \n",
       "11749                         0                  0   \n",
       "11750                         0                  0   \n",
       "11751                         0                  0   \n",
       "\n",
       "       food_type_ready-to-drink_beverages  tons_productive_surplus  \\\n",
       "11742                                   0             32021.022279   \n",
       "11743                                   0             15339.621421   \n",
       "11744                                   0              7851.229445   \n",
       "11745                                   0             57265.413779   \n",
       "11746                                   1              3863.501143   \n",
       "11747                                   1            119016.899668   \n",
       "11748                                   1              2966.694132   \n",
       "11749                                   1              4000.837082   \n",
       "11750                                   1              4025.248771   \n",
       "11751                                   1             40439.129093   \n",
       "\n",
       "       tons_unproductive_surplus  tons_consumed  \n",
       "11742               16373.240966   8.931284e+05  \n",
       "11743                7843.575876   4.278518e+05  \n",
       "11744                4014.552392   2.189860e+05  \n",
       "11745               29281.401771   1.597243e+06  \n",
       "11746                3038.029001   3.281242e+05  \n",
       "11747               93587.857080   1.010801e+07  \n",
       "11748                2332.832961   2.519591e+05  \n",
       "11749                3146.021868   3.397880e+05  \n",
       "11750                3165.217777   3.418613e+05  \n",
       "11751               31798.941542   3.434464e+06  "
      ]
     },
     "execution_count": 76,
     "metadata": {},
     "output_type": "execute_result"
    }
   ],
   "source": [
    "df.tail(10)"
   ]
  },
  {
   "cell_type": "code",
   "execution_count": 5,
   "metadata": {},
   "outputs": [],
   "source": [
    "X = df[[\"tons_consumed\", \"tons_donated\", \"tons_biomaterial_processing\", \"tons_animal_feed\", \"tons_anaerobically_digested\", \"tons_composted\", \"tons_incinerated\", \"tons_land_application\", \"tons_landfilled\", \"tons_sewer\", \"tons_refuse_discards\", \"sector_farm\", \"sector_foodservice\", \"sector_manufacturing\", \"sector_residential\", \"sector_retail\", \"food_type_breads_&_bakery\", \"food_type_dairy_&_eggs\", \"food_type_dry_goods\", \"food_type_fresh_meat_&_seafood\", \"food_type_frozen\", \"food_type_prepared_foods\", \"food_type_produce\", \"food_type_ready-to-drink_beverages\"]]\n",
    "y = df[\"total_mtco2e_footprint\"]"
   ]
  },
  {
   "cell_type": "markdown",
   "metadata": {},
   "source": [
    "## Preprocessing"
   ]
  },
  {
   "cell_type": "markdown",
   "metadata": {},
   "source": [
    "### Splitting and Scaling"
   ]
  },
  {
   "cell_type": "code",
   "execution_count": 6,
   "metadata": {},
   "outputs": [],
   "source": [
    "X_train, X_test, y_train, y_test = train_test_split(X, y, random_state=51)"
   ]
  },
  {
   "cell_type": "code",
   "execution_count": 7,
   "metadata": {},
   "outputs": [],
   "source": [
    "ss = StandardScaler()\n",
    "\n",
    "X_train_ss = ss.fit_transform(X_train)\n",
    "X_test_ss = ss.transform(X_test)"
   ]
  },
  {
   "cell_type": "markdown",
   "metadata": {},
   "source": [
    "### Model Instantiation"
   ]
  },
  {
   "cell_type": "code",
   "execution_count": 8,
   "metadata": {},
   "outputs": [],
   "source": [
    "lr = LinearRegression()\n",
    "\n",
    "lasso = Lasso(max_iter=10000, tol=0.001, random_state=51)\n",
    "\n",
    "ridge = Ridge(random_state=51)\n",
    "\n",
    "dtr = DecisionTreeRegressor(random_state=51)\n",
    "\n",
    "rfr = RandomForestRegressor(random_state=51)"
   ]
  },
  {
   "cell_type": "markdown",
   "metadata": {},
   "source": [
    "## Model Selection and Evaluation"
   ]
  },
  {
   "cell_type": "markdown",
   "metadata": {},
   "source": [
    "### Linear Regression"
   ]
  },
  {
   "cell_type": "code",
   "execution_count": 9,
   "metadata": {},
   "outputs": [],
   "source": [
    "model1 = lr.fit(X_train_ss, y_train)"
   ]
  },
  {
   "cell_type": "code",
   "execution_count": 10,
   "metadata": {},
   "outputs": [
    {
     "name": "stdout",
     "output_type": "stream",
     "text": [
      "0.949913850558376\n",
      "0.96708519062423\n"
     ]
    }
   ],
   "source": [
    "print(model1.score(X_train_ss, y_train))\n",
    "\n",
    "print(model1.score(X_test_ss, y_test))"
   ]
  },
  {
   "cell_type": "code",
   "execution_count": 11,
   "metadata": {},
   "outputs": [],
   "source": [
    "y_pred_1 = lr.predict(X_train_ss)"
   ]
  },
  {
   "cell_type": "code",
   "execution_count": 12,
   "metadata": {},
   "outputs": [
    {
     "data": {
      "text/plain": [
       "129960.00847716266"
      ]
     },
     "execution_count": 12,
     "metadata": {},
     "output_type": "execute_result"
    }
   ],
   "source": [
    "mae1 = metrics.mean_absolute_error(y_train, y_pred_1)\n",
    "mae1"
   ]
  },
  {
   "cell_type": "code",
   "execution_count": 13,
   "metadata": {},
   "outputs": [
    {
     "data": {
      "text/plain": [
       "88982004054.34956"
      ]
     },
     "execution_count": 13,
     "metadata": {},
     "output_type": "execute_result"
    }
   ],
   "source": [
    "mse1 = metrics.mean_squared_error(y_train, y_pred_1)\n",
    "mse1"
   ]
  },
  {
   "cell_type": "code",
   "execution_count": 14,
   "metadata": {},
   "outputs": [
    {
     "data": {
      "text/plain": [
       "298298.5150052705"
      ]
     },
     "execution_count": 14,
     "metadata": {},
     "output_type": "execute_result"
    }
   ],
   "source": [
    "rmse1 = np.sqrt(mse1)\n",
    "rmse1"
   ]
  },
  {
   "cell_type": "markdown",
   "metadata": {},
   "source": [
    "### LASSO Regression"
   ]
  },
  {
   "cell_type": "code",
   "execution_count": 15,
   "metadata": {},
   "outputs": [],
   "source": [
    "lasso_params = {\n",
    "    'alpha' : [1, 5, 10]\n",
    "}"
   ]
  },
  {
   "cell_type": "code",
   "execution_count": 16,
   "metadata": {},
   "outputs": [],
   "source": [
    "lasso_gridsearch = GridSearchCV(lasso,\n",
    "                                lasso_params,\n",
    "                                cv = 5,\n",
    "                                verbose = 1)"
   ]
  },
  {
   "cell_type": "code",
   "execution_count": 17,
   "metadata": {},
   "outputs": [
    {
     "name": "stdout",
     "output_type": "stream",
     "text": [
      "Fitting 5 folds for each of 3 candidates, totalling 15 fits\n"
     ]
    }
   ],
   "source": [
    "model2 = lasso_gridsearch.fit(X_train_ss, y_train)"
   ]
  },
  {
   "cell_type": "code",
   "execution_count": 18,
   "metadata": {},
   "outputs": [
    {
     "data": {
      "text/plain": [
       "0.9461107791194404"
      ]
     },
     "execution_count": 18,
     "metadata": {},
     "output_type": "execute_result"
    }
   ],
   "source": [
    "model2.best_score_"
   ]
  },
  {
   "cell_type": "code",
   "execution_count": 19,
   "metadata": {},
   "outputs": [
    {
     "data": {
      "text/plain": [
       "{'alpha': 1}"
      ]
     },
     "execution_count": 19,
     "metadata": {},
     "output_type": "execute_result"
    }
   ],
   "source": [
    "model2.best_params_"
   ]
  },
  {
   "cell_type": "code",
   "execution_count": 20,
   "metadata": {},
   "outputs": [
    {
     "data": {
      "text/html": [
       "<style>#sk-container-id-1 {color: black;}#sk-container-id-1 pre{padding: 0;}#sk-container-id-1 div.sk-toggleable {background-color: white;}#sk-container-id-1 label.sk-toggleable__label {cursor: pointer;display: block;width: 100%;margin-bottom: 0;padding: 0.3em;box-sizing: border-box;text-align: center;}#sk-container-id-1 label.sk-toggleable__label-arrow:before {content: \"▸\";float: left;margin-right: 0.25em;color: #696969;}#sk-container-id-1 label.sk-toggleable__label-arrow:hover:before {color: black;}#sk-container-id-1 div.sk-estimator:hover label.sk-toggleable__label-arrow:before {color: black;}#sk-container-id-1 div.sk-toggleable__content {max-height: 0;max-width: 0;overflow: hidden;text-align: left;background-color: #f0f8ff;}#sk-container-id-1 div.sk-toggleable__content pre {margin: 0.2em;color: black;border-radius: 0.25em;background-color: #f0f8ff;}#sk-container-id-1 input.sk-toggleable__control:checked~div.sk-toggleable__content {max-height: 200px;max-width: 100%;overflow: auto;}#sk-container-id-1 input.sk-toggleable__control:checked~label.sk-toggleable__label-arrow:before {content: \"▾\";}#sk-container-id-1 div.sk-estimator input.sk-toggleable__control:checked~label.sk-toggleable__label {background-color: #d4ebff;}#sk-container-id-1 div.sk-label input.sk-toggleable__control:checked~label.sk-toggleable__label {background-color: #d4ebff;}#sk-container-id-1 input.sk-hidden--visually {border: 0;clip: rect(1px 1px 1px 1px);clip: rect(1px, 1px, 1px, 1px);height: 1px;margin: -1px;overflow: hidden;padding: 0;position: absolute;width: 1px;}#sk-container-id-1 div.sk-estimator {font-family: monospace;background-color: #f0f8ff;border: 1px dotted black;border-radius: 0.25em;box-sizing: border-box;margin-bottom: 0.5em;}#sk-container-id-1 div.sk-estimator:hover {background-color: #d4ebff;}#sk-container-id-1 div.sk-parallel-item::after {content: \"\";width: 100%;border-bottom: 1px solid gray;flex-grow: 1;}#sk-container-id-1 div.sk-label:hover label.sk-toggleable__label {background-color: #d4ebff;}#sk-container-id-1 div.sk-serial::before {content: \"\";position: absolute;border-left: 1px solid gray;box-sizing: border-box;top: 0;bottom: 0;left: 50%;z-index: 0;}#sk-container-id-1 div.sk-serial {display: flex;flex-direction: column;align-items: center;background-color: white;padding-right: 0.2em;padding-left: 0.2em;position: relative;}#sk-container-id-1 div.sk-item {position: relative;z-index: 1;}#sk-container-id-1 div.sk-parallel {display: flex;align-items: stretch;justify-content: center;background-color: white;position: relative;}#sk-container-id-1 div.sk-item::before, #sk-container-id-1 div.sk-parallel-item::before {content: \"\";position: absolute;border-left: 1px solid gray;box-sizing: border-box;top: 0;bottom: 0;left: 50%;z-index: -1;}#sk-container-id-1 div.sk-parallel-item {display: flex;flex-direction: column;z-index: 1;position: relative;background-color: white;}#sk-container-id-1 div.sk-parallel-item:first-child::after {align-self: flex-end;width: 50%;}#sk-container-id-1 div.sk-parallel-item:last-child::after {align-self: flex-start;width: 50%;}#sk-container-id-1 div.sk-parallel-item:only-child::after {width: 0;}#sk-container-id-1 div.sk-dashed-wrapped {border: 1px dashed gray;margin: 0 0.4em 0.5em 0.4em;box-sizing: border-box;padding-bottom: 0.4em;background-color: white;}#sk-container-id-1 div.sk-label label {font-family: monospace;font-weight: bold;display: inline-block;line-height: 1.2em;}#sk-container-id-1 div.sk-label-container {text-align: center;}#sk-container-id-1 div.sk-container {/* jupyter's `normalize.less` sets `[hidden] { display: none; }` but bootstrap.min.css set `[hidden] { display: none !important; }` so we also need the `!important` here to be able to override the default hidden behavior on the sphinx rendered scikit-learn.org. See: https://github.com/scikit-learn/scikit-learn/issues/21755 */display: inline-block !important;position: relative;}#sk-container-id-1 div.sk-text-repr-fallback {display: none;}</style><div id=\"sk-container-id-1\" class=\"sk-top-container\"><div class=\"sk-text-repr-fallback\"><pre>Lasso(alpha=1, max_iter=10000, random_state=51, tol=0.001)</pre><b>In a Jupyter environment, please rerun this cell to show the HTML representation or trust the notebook. <br />On GitHub, the HTML representation is unable to render, please try loading this page with nbviewer.org.</b></div><div class=\"sk-container\" hidden><div class=\"sk-item\"><div class=\"sk-estimator sk-toggleable\"><input class=\"sk-toggleable__control sk-hidden--visually\" id=\"sk-estimator-id-1\" type=\"checkbox\" checked><label for=\"sk-estimator-id-1\" class=\"sk-toggleable__label sk-toggleable__label-arrow\">Lasso</label><div class=\"sk-toggleable__content\"><pre>Lasso(alpha=1, max_iter=10000, random_state=51, tol=0.001)</pre></div></div></div></div></div>"
      ],
      "text/plain": [
       "Lasso(alpha=1, max_iter=10000, random_state=51, tol=0.001)"
      ]
     },
     "execution_count": 20,
     "metadata": {},
     "output_type": "execute_result"
    }
   ],
   "source": [
    "best_model2 = model2.best_estimator_\n",
    "best_model2.fit(X_train_ss, y_train)"
   ]
  },
  {
   "cell_type": "code",
   "execution_count": 21,
   "metadata": {},
   "outputs": [
    {
     "name": "stdout",
     "output_type": "stream",
     "text": [
      "0.9499138503102171\n",
      "0.9670853222598297\n"
     ]
    }
   ],
   "source": [
    "print(best_model2.score(X_train_ss, y_train))\n",
    "\n",
    "print(best_model2.score(X_test_ss, y_test))"
   ]
  },
  {
   "cell_type": "code",
   "execution_count": 22,
   "metadata": {},
   "outputs": [],
   "source": [
    "y_pred_2 = best_model2.predict(X_train_ss)"
   ]
  },
  {
   "cell_type": "code",
   "execution_count": 23,
   "metadata": {},
   "outputs": [
    {
     "data": {
      "text/plain": [
       "129958.57737636422"
      ]
     },
     "execution_count": 23,
     "metadata": {},
     "output_type": "execute_result"
    }
   ],
   "source": [
    "mae2 = metrics.mean_absolute_error(y_train, y_pred_2)\n",
    "mae2"
   ]
  },
  {
   "cell_type": "code",
   "execution_count": 24,
   "metadata": {},
   "outputs": [
    {
     "data": {
      "text/plain": [
       "88982004495.22322"
      ]
     },
     "execution_count": 24,
     "metadata": {},
     "output_type": "execute_result"
    }
   ],
   "source": [
    "mse2 = metrics.mean_squared_error(y_train, y_pred_2)\n",
    "mse2"
   ]
  },
  {
   "cell_type": "code",
   "execution_count": 25,
   "metadata": {},
   "outputs": [
    {
     "data": {
      "text/plain": [
       "298298.5157442511"
      ]
     },
     "execution_count": 25,
     "metadata": {},
     "output_type": "execute_result"
    }
   ],
   "source": [
    "rmse2 = np.sqrt(mse2)\n",
    "rmse2"
   ]
  },
  {
   "cell_type": "markdown",
   "metadata": {},
   "source": [
    "### Ridge Regression"
   ]
  },
  {
   "cell_type": "code",
   "execution_count": 26,
   "metadata": {},
   "outputs": [],
   "source": [
    "ridge_params = {\n",
    "    'alpha' : [1, 5, 10]\n",
    "}"
   ]
  },
  {
   "cell_type": "code",
   "execution_count": 27,
   "metadata": {},
   "outputs": [],
   "source": [
    "ridge_gridsearch = GridSearchCV(ridge,\n",
    "                                ridge_params,\n",
    "                                cv = 5,\n",
    "                                verbose = 1)"
   ]
  },
  {
   "cell_type": "code",
   "execution_count": 28,
   "metadata": {},
   "outputs": [
    {
     "name": "stdout",
     "output_type": "stream",
     "text": [
      "Fitting 5 folds for each of 3 candidates, totalling 15 fits\n"
     ]
    }
   ],
   "source": [
    "model3 = ridge_gridsearch.fit(X_train_ss, y_train)"
   ]
  },
  {
   "cell_type": "code",
   "execution_count": 29,
   "metadata": {},
   "outputs": [
    {
     "data": {
      "text/plain": [
       "0.9461289854753006"
      ]
     },
     "execution_count": 29,
     "metadata": {},
     "output_type": "execute_result"
    }
   ],
   "source": [
    "model3.best_score_"
   ]
  },
  {
   "cell_type": "code",
   "execution_count": 30,
   "metadata": {},
   "outputs": [
    {
     "data": {
      "text/plain": [
       "{'alpha': 5}"
      ]
     },
     "execution_count": 30,
     "metadata": {},
     "output_type": "execute_result"
    }
   ],
   "source": [
    "model3.best_params_"
   ]
  },
  {
   "cell_type": "code",
   "execution_count": 31,
   "metadata": {},
   "outputs": [
    {
     "data": {
      "text/html": [
       "<style>#sk-container-id-2 {color: black;}#sk-container-id-2 pre{padding: 0;}#sk-container-id-2 div.sk-toggleable {background-color: white;}#sk-container-id-2 label.sk-toggleable__label {cursor: pointer;display: block;width: 100%;margin-bottom: 0;padding: 0.3em;box-sizing: border-box;text-align: center;}#sk-container-id-2 label.sk-toggleable__label-arrow:before {content: \"▸\";float: left;margin-right: 0.25em;color: #696969;}#sk-container-id-2 label.sk-toggleable__label-arrow:hover:before {color: black;}#sk-container-id-2 div.sk-estimator:hover label.sk-toggleable__label-arrow:before {color: black;}#sk-container-id-2 div.sk-toggleable__content {max-height: 0;max-width: 0;overflow: hidden;text-align: left;background-color: #f0f8ff;}#sk-container-id-2 div.sk-toggleable__content pre {margin: 0.2em;color: black;border-radius: 0.25em;background-color: #f0f8ff;}#sk-container-id-2 input.sk-toggleable__control:checked~div.sk-toggleable__content {max-height: 200px;max-width: 100%;overflow: auto;}#sk-container-id-2 input.sk-toggleable__control:checked~label.sk-toggleable__label-arrow:before {content: \"▾\";}#sk-container-id-2 div.sk-estimator input.sk-toggleable__control:checked~label.sk-toggleable__label {background-color: #d4ebff;}#sk-container-id-2 div.sk-label input.sk-toggleable__control:checked~label.sk-toggleable__label {background-color: #d4ebff;}#sk-container-id-2 input.sk-hidden--visually {border: 0;clip: rect(1px 1px 1px 1px);clip: rect(1px, 1px, 1px, 1px);height: 1px;margin: -1px;overflow: hidden;padding: 0;position: absolute;width: 1px;}#sk-container-id-2 div.sk-estimator {font-family: monospace;background-color: #f0f8ff;border: 1px dotted black;border-radius: 0.25em;box-sizing: border-box;margin-bottom: 0.5em;}#sk-container-id-2 div.sk-estimator:hover {background-color: #d4ebff;}#sk-container-id-2 div.sk-parallel-item::after {content: \"\";width: 100%;border-bottom: 1px solid gray;flex-grow: 1;}#sk-container-id-2 div.sk-label:hover label.sk-toggleable__label {background-color: #d4ebff;}#sk-container-id-2 div.sk-serial::before {content: \"\";position: absolute;border-left: 1px solid gray;box-sizing: border-box;top: 0;bottom: 0;left: 50%;z-index: 0;}#sk-container-id-2 div.sk-serial {display: flex;flex-direction: column;align-items: center;background-color: white;padding-right: 0.2em;padding-left: 0.2em;position: relative;}#sk-container-id-2 div.sk-item {position: relative;z-index: 1;}#sk-container-id-2 div.sk-parallel {display: flex;align-items: stretch;justify-content: center;background-color: white;position: relative;}#sk-container-id-2 div.sk-item::before, #sk-container-id-2 div.sk-parallel-item::before {content: \"\";position: absolute;border-left: 1px solid gray;box-sizing: border-box;top: 0;bottom: 0;left: 50%;z-index: -1;}#sk-container-id-2 div.sk-parallel-item {display: flex;flex-direction: column;z-index: 1;position: relative;background-color: white;}#sk-container-id-2 div.sk-parallel-item:first-child::after {align-self: flex-end;width: 50%;}#sk-container-id-2 div.sk-parallel-item:last-child::after {align-self: flex-start;width: 50%;}#sk-container-id-2 div.sk-parallel-item:only-child::after {width: 0;}#sk-container-id-2 div.sk-dashed-wrapped {border: 1px dashed gray;margin: 0 0.4em 0.5em 0.4em;box-sizing: border-box;padding-bottom: 0.4em;background-color: white;}#sk-container-id-2 div.sk-label label {font-family: monospace;font-weight: bold;display: inline-block;line-height: 1.2em;}#sk-container-id-2 div.sk-label-container {text-align: center;}#sk-container-id-2 div.sk-container {/* jupyter's `normalize.less` sets `[hidden] { display: none; }` but bootstrap.min.css set `[hidden] { display: none !important; }` so we also need the `!important` here to be able to override the default hidden behavior on the sphinx rendered scikit-learn.org. See: https://github.com/scikit-learn/scikit-learn/issues/21755 */display: inline-block !important;position: relative;}#sk-container-id-2 div.sk-text-repr-fallback {display: none;}</style><div id=\"sk-container-id-2\" class=\"sk-top-container\"><div class=\"sk-text-repr-fallback\"><pre>Ridge(alpha=5, random_state=51)</pre><b>In a Jupyter environment, please rerun this cell to show the HTML representation or trust the notebook. <br />On GitHub, the HTML representation is unable to render, please try loading this page with nbviewer.org.</b></div><div class=\"sk-container\" hidden><div class=\"sk-item\"><div class=\"sk-estimator sk-toggleable\"><input class=\"sk-toggleable__control sk-hidden--visually\" id=\"sk-estimator-id-2\" type=\"checkbox\" checked><label for=\"sk-estimator-id-2\" class=\"sk-toggleable__label sk-toggleable__label-arrow\">Ridge</label><div class=\"sk-toggleable__content\"><pre>Ridge(alpha=5, random_state=51)</pre></div></div></div></div></div>"
      ],
      "text/plain": [
       "Ridge(alpha=5, random_state=51)"
      ]
     },
     "execution_count": 31,
     "metadata": {},
     "output_type": "execute_result"
    }
   ],
   "source": [
    "best_model3 = model3.best_estimator_\n",
    "best_model3.fit(X_train_ss, y_train)"
   ]
  },
  {
   "cell_type": "code",
   "execution_count": 32,
   "metadata": {},
   "outputs": [
    {
     "name": "stdout",
     "output_type": "stream",
     "text": [
      "0.949904819105736\n",
      "0.9670669157194531\n"
     ]
    }
   ],
   "source": [
    "print(best_model3.score(X_train_ss, y_train))\n",
    "\n",
    "print(best_model3.score(X_test_ss, y_test))"
   ]
  },
  {
   "cell_type": "code",
   "execution_count": 33,
   "metadata": {},
   "outputs": [],
   "source": [
    "y_pred_3 = best_model3.predict(X_train_ss)"
   ]
  },
  {
   "cell_type": "code",
   "execution_count": 34,
   "metadata": {},
   "outputs": [
    {
     "data": {
      "text/plain": [
       "130016.04553069883"
      ]
     },
     "execution_count": 34,
     "metadata": {},
     "output_type": "execute_result"
    }
   ],
   "source": [
    "mae3 = metrics.mean_absolute_error(y_train, y_pred_3)\n",
    "mae3"
   ]
  },
  {
   "cell_type": "code",
   "execution_count": 35,
   "metadata": {},
   "outputs": [
    {
     "data": {
      "text/plain": [
       "88998049143.94781"
      ]
     },
     "execution_count": 35,
     "metadata": {},
     "output_type": "execute_result"
    }
   ],
   "source": [
    "mse3 = metrics.mean_squared_error(y_train, y_pred_3)\n",
    "mse3"
   ]
  },
  {
   "cell_type": "code",
   "execution_count": 36,
   "metadata": {},
   "outputs": [
    {
     "data": {
      "text/plain": [
       "298325.40814343625"
      ]
     },
     "execution_count": 36,
     "metadata": {},
     "output_type": "execute_result"
    }
   ],
   "source": [
    "rmse3 = np.sqrt(mse3)\n",
    "rmse3"
   ]
  },
  {
   "cell_type": "markdown",
   "metadata": {},
   "source": [
    "### Decision Tree Regression"
   ]
  },
  {
   "cell_type": "code",
   "execution_count": 37,
   "metadata": {},
   "outputs": [],
   "source": [
    "dtr_params = {\n",
    "    'max_depth' : [10, 15, 25, 50, 100],\n",
    "    'min_samples_split' : [2, 4, 6],\n",
    "    'min_samples_leaf' : [1, 3, 5, 10]\n",
    "}"
   ]
  },
  {
   "cell_type": "code",
   "execution_count": 38,
   "metadata": {},
   "outputs": [],
   "source": [
    "dtr_gridsearch = GridSearchCV(dtr,\n",
    "                              dtr_params,\n",
    "                              cv = 5,\n",
    "                              verbose = 1)"
   ]
  },
  {
   "cell_type": "code",
   "execution_count": 39,
   "metadata": {},
   "outputs": [
    {
     "name": "stdout",
     "output_type": "stream",
     "text": [
      "Fitting 5 folds for each of 60 candidates, totalling 300 fits\n"
     ]
    }
   ],
   "source": [
    "model4 = dtr_gridsearch.fit(X_train, y_train)"
   ]
  },
  {
   "cell_type": "code",
   "execution_count": 40,
   "metadata": {},
   "outputs": [
    {
     "data": {
      "text/plain": [
       "0.9829690671131346"
      ]
     },
     "execution_count": 40,
     "metadata": {},
     "output_type": "execute_result"
    }
   ],
   "source": [
    "model4.best_score_"
   ]
  },
  {
   "cell_type": "code",
   "execution_count": 41,
   "metadata": {},
   "outputs": [
    {
     "data": {
      "text/plain": [
       "{'max_depth': 25, 'min_samples_leaf': 1, 'min_samples_split': 4}"
      ]
     },
     "execution_count": 41,
     "metadata": {},
     "output_type": "execute_result"
    }
   ],
   "source": [
    "model4.best_params_"
   ]
  },
  {
   "cell_type": "code",
   "execution_count": 42,
   "metadata": {},
   "outputs": [
    {
     "data": {
      "text/html": [
       "<style>#sk-container-id-3 {color: black;}#sk-container-id-3 pre{padding: 0;}#sk-container-id-3 div.sk-toggleable {background-color: white;}#sk-container-id-3 label.sk-toggleable__label {cursor: pointer;display: block;width: 100%;margin-bottom: 0;padding: 0.3em;box-sizing: border-box;text-align: center;}#sk-container-id-3 label.sk-toggleable__label-arrow:before {content: \"▸\";float: left;margin-right: 0.25em;color: #696969;}#sk-container-id-3 label.sk-toggleable__label-arrow:hover:before {color: black;}#sk-container-id-3 div.sk-estimator:hover label.sk-toggleable__label-arrow:before {color: black;}#sk-container-id-3 div.sk-toggleable__content {max-height: 0;max-width: 0;overflow: hidden;text-align: left;background-color: #f0f8ff;}#sk-container-id-3 div.sk-toggleable__content pre {margin: 0.2em;color: black;border-radius: 0.25em;background-color: #f0f8ff;}#sk-container-id-3 input.sk-toggleable__control:checked~div.sk-toggleable__content {max-height: 200px;max-width: 100%;overflow: auto;}#sk-container-id-3 input.sk-toggleable__control:checked~label.sk-toggleable__label-arrow:before {content: \"▾\";}#sk-container-id-3 div.sk-estimator input.sk-toggleable__control:checked~label.sk-toggleable__label {background-color: #d4ebff;}#sk-container-id-3 div.sk-label input.sk-toggleable__control:checked~label.sk-toggleable__label {background-color: #d4ebff;}#sk-container-id-3 input.sk-hidden--visually {border: 0;clip: rect(1px 1px 1px 1px);clip: rect(1px, 1px, 1px, 1px);height: 1px;margin: -1px;overflow: hidden;padding: 0;position: absolute;width: 1px;}#sk-container-id-3 div.sk-estimator {font-family: monospace;background-color: #f0f8ff;border: 1px dotted black;border-radius: 0.25em;box-sizing: border-box;margin-bottom: 0.5em;}#sk-container-id-3 div.sk-estimator:hover {background-color: #d4ebff;}#sk-container-id-3 div.sk-parallel-item::after {content: \"\";width: 100%;border-bottom: 1px solid gray;flex-grow: 1;}#sk-container-id-3 div.sk-label:hover label.sk-toggleable__label {background-color: #d4ebff;}#sk-container-id-3 div.sk-serial::before {content: \"\";position: absolute;border-left: 1px solid gray;box-sizing: border-box;top: 0;bottom: 0;left: 50%;z-index: 0;}#sk-container-id-3 div.sk-serial {display: flex;flex-direction: column;align-items: center;background-color: white;padding-right: 0.2em;padding-left: 0.2em;position: relative;}#sk-container-id-3 div.sk-item {position: relative;z-index: 1;}#sk-container-id-3 div.sk-parallel {display: flex;align-items: stretch;justify-content: center;background-color: white;position: relative;}#sk-container-id-3 div.sk-item::before, #sk-container-id-3 div.sk-parallel-item::before {content: \"\";position: absolute;border-left: 1px solid gray;box-sizing: border-box;top: 0;bottom: 0;left: 50%;z-index: -1;}#sk-container-id-3 div.sk-parallel-item {display: flex;flex-direction: column;z-index: 1;position: relative;background-color: white;}#sk-container-id-3 div.sk-parallel-item:first-child::after {align-self: flex-end;width: 50%;}#sk-container-id-3 div.sk-parallel-item:last-child::after {align-self: flex-start;width: 50%;}#sk-container-id-3 div.sk-parallel-item:only-child::after {width: 0;}#sk-container-id-3 div.sk-dashed-wrapped {border: 1px dashed gray;margin: 0 0.4em 0.5em 0.4em;box-sizing: border-box;padding-bottom: 0.4em;background-color: white;}#sk-container-id-3 div.sk-label label {font-family: monospace;font-weight: bold;display: inline-block;line-height: 1.2em;}#sk-container-id-3 div.sk-label-container {text-align: center;}#sk-container-id-3 div.sk-container {/* jupyter's `normalize.less` sets `[hidden] { display: none; }` but bootstrap.min.css set `[hidden] { display: none !important; }` so we also need the `!important` here to be able to override the default hidden behavior on the sphinx rendered scikit-learn.org. See: https://github.com/scikit-learn/scikit-learn/issues/21755 */display: inline-block !important;position: relative;}#sk-container-id-3 div.sk-text-repr-fallback {display: none;}</style><div id=\"sk-container-id-3\" class=\"sk-top-container\"><div class=\"sk-text-repr-fallback\"><pre>DecisionTreeRegressor(max_depth=25, min_samples_split=4, random_state=51)</pre><b>In a Jupyter environment, please rerun this cell to show the HTML representation or trust the notebook. <br />On GitHub, the HTML representation is unable to render, please try loading this page with nbviewer.org.</b></div><div class=\"sk-container\" hidden><div class=\"sk-item\"><div class=\"sk-estimator sk-toggleable\"><input class=\"sk-toggleable__control sk-hidden--visually\" id=\"sk-estimator-id-3\" type=\"checkbox\" checked><label for=\"sk-estimator-id-3\" class=\"sk-toggleable__label sk-toggleable__label-arrow\">DecisionTreeRegressor</label><div class=\"sk-toggleable__content\"><pre>DecisionTreeRegressor(max_depth=25, min_samples_split=4, random_state=51)</pre></div></div></div></div></div>"
      ],
      "text/plain": [
       "DecisionTreeRegressor(max_depth=25, min_samples_split=4, random_state=51)"
      ]
     },
     "execution_count": 42,
     "metadata": {},
     "output_type": "execute_result"
    }
   ],
   "source": [
    "best_model4 = model4.best_estimator_\n",
    "best_model4.fit(X_train, y_train)"
   ]
  },
  {
   "cell_type": "code",
   "execution_count": 43,
   "metadata": {},
   "outputs": [
    {
     "name": "stdout",
     "output_type": "stream",
     "text": [
      "0.9997010159766507\n",
      "0.996169535706307\n"
     ]
    }
   ],
   "source": [
    "print(best_model4.score(X_train, y_train))\n",
    "\n",
    "print(best_model4.score(X_test, y_test))"
   ]
  },
  {
   "cell_type": "code",
   "execution_count": 44,
   "metadata": {},
   "outputs": [],
   "source": [
    "y_pred_4 = best_model4.predict(X_train)"
   ]
  },
  {
   "cell_type": "code",
   "execution_count": 45,
   "metadata": {},
   "outputs": [
    {
     "data": {
      "text/plain": [
       "2814.4308194313653"
      ]
     },
     "execution_count": 45,
     "metadata": {},
     "output_type": "execute_result"
    }
   ],
   "source": [
    "mae4 = metrics.mean_absolute_error(y_train, y_pred_4)\n",
    "mae4"
   ]
  },
  {
   "cell_type": "code",
   "execution_count": 46,
   "metadata": {},
   "outputs": [
    {
     "data": {
      "text/plain": [
       "531168753.72613484"
      ]
     },
     "execution_count": 46,
     "metadata": {},
     "output_type": "execute_result"
    }
   ],
   "source": [
    "mse4 = metrics.mean_squared_error(y_train, y_pred_4)\n",
    "mse4"
   ]
  },
  {
   "cell_type": "code",
   "execution_count": 47,
   "metadata": {},
   "outputs": [
    {
     "data": {
      "text/plain": [
       "23047.098596702683"
      ]
     },
     "execution_count": 47,
     "metadata": {},
     "output_type": "execute_result"
    }
   ],
   "source": [
    "rmse4 = np.sqrt(mse4)\n",
    "rmse4"
   ]
  },
  {
   "cell_type": "markdown",
   "metadata": {},
   "source": [
    "### Random Forest Regression"
   ]
  },
  {
   "cell_type": "code",
   "execution_count": 60,
   "metadata": {},
   "outputs": [],
   "source": [
    "rfr_params = {\n",
    "    'n_estimators' : [50, 100, 200],\n",
    "    'max_depth' : [10, 50, 100],\n",
    "    'min_samples_split' : [2, 4],\n",
    "    'min_samples_leaf' : [1, 5]\n",
    "}"
   ]
  },
  {
   "cell_type": "code",
   "execution_count": 61,
   "metadata": {},
   "outputs": [],
   "source": [
    "rfr_gridsearch = GridSearchCV(rfr,\n",
    "                              rfr_params,\n",
    "                              cv = 5,\n",
    "                              verbose = 1)"
   ]
  },
  {
   "cell_type": "code",
   "execution_count": 62,
   "metadata": {},
   "outputs": [
    {
     "name": "stdout",
     "output_type": "stream",
     "text": [
      "Fitting 5 folds for each of 36 candidates, totalling 180 fits\n"
     ]
    }
   ],
   "source": [
    "model5 = rfr_gridsearch.fit(X_train, y_train)"
   ]
  },
  {
   "cell_type": "code",
   "execution_count": 63,
   "metadata": {},
   "outputs": [
    {
     "data": {
      "text/plain": [
       "0.9943095896704441"
      ]
     },
     "execution_count": 63,
     "metadata": {},
     "output_type": "execute_result"
    }
   ],
   "source": [
    "model5.best_score_"
   ]
  },
  {
   "cell_type": "code",
   "execution_count": 64,
   "metadata": {},
   "outputs": [
    {
     "data": {
      "text/plain": [
       "{'max_depth': 50,\n",
       " 'min_samples_leaf': 1,\n",
       " 'min_samples_split': 2,\n",
       " 'n_estimators': 50}"
      ]
     },
     "execution_count": 64,
     "metadata": {},
     "output_type": "execute_result"
    }
   ],
   "source": [
    "model5.best_params_"
   ]
  },
  {
   "cell_type": "code",
   "execution_count": 65,
   "metadata": {},
   "outputs": [
    {
     "data": {
      "text/html": [
       "<style>#sk-container-id-4 {color: black;}#sk-container-id-4 pre{padding: 0;}#sk-container-id-4 div.sk-toggleable {background-color: white;}#sk-container-id-4 label.sk-toggleable__label {cursor: pointer;display: block;width: 100%;margin-bottom: 0;padding: 0.3em;box-sizing: border-box;text-align: center;}#sk-container-id-4 label.sk-toggleable__label-arrow:before {content: \"▸\";float: left;margin-right: 0.25em;color: #696969;}#sk-container-id-4 label.sk-toggleable__label-arrow:hover:before {color: black;}#sk-container-id-4 div.sk-estimator:hover label.sk-toggleable__label-arrow:before {color: black;}#sk-container-id-4 div.sk-toggleable__content {max-height: 0;max-width: 0;overflow: hidden;text-align: left;background-color: #f0f8ff;}#sk-container-id-4 div.sk-toggleable__content pre {margin: 0.2em;color: black;border-radius: 0.25em;background-color: #f0f8ff;}#sk-container-id-4 input.sk-toggleable__control:checked~div.sk-toggleable__content {max-height: 200px;max-width: 100%;overflow: auto;}#sk-container-id-4 input.sk-toggleable__control:checked~label.sk-toggleable__label-arrow:before {content: \"▾\";}#sk-container-id-4 div.sk-estimator input.sk-toggleable__control:checked~label.sk-toggleable__label {background-color: #d4ebff;}#sk-container-id-4 div.sk-label input.sk-toggleable__control:checked~label.sk-toggleable__label {background-color: #d4ebff;}#sk-container-id-4 input.sk-hidden--visually {border: 0;clip: rect(1px 1px 1px 1px);clip: rect(1px, 1px, 1px, 1px);height: 1px;margin: -1px;overflow: hidden;padding: 0;position: absolute;width: 1px;}#sk-container-id-4 div.sk-estimator {font-family: monospace;background-color: #f0f8ff;border: 1px dotted black;border-radius: 0.25em;box-sizing: border-box;margin-bottom: 0.5em;}#sk-container-id-4 div.sk-estimator:hover {background-color: #d4ebff;}#sk-container-id-4 div.sk-parallel-item::after {content: \"\";width: 100%;border-bottom: 1px solid gray;flex-grow: 1;}#sk-container-id-4 div.sk-label:hover label.sk-toggleable__label {background-color: #d4ebff;}#sk-container-id-4 div.sk-serial::before {content: \"\";position: absolute;border-left: 1px solid gray;box-sizing: border-box;top: 0;bottom: 0;left: 50%;z-index: 0;}#sk-container-id-4 div.sk-serial {display: flex;flex-direction: column;align-items: center;background-color: white;padding-right: 0.2em;padding-left: 0.2em;position: relative;}#sk-container-id-4 div.sk-item {position: relative;z-index: 1;}#sk-container-id-4 div.sk-parallel {display: flex;align-items: stretch;justify-content: center;background-color: white;position: relative;}#sk-container-id-4 div.sk-item::before, #sk-container-id-4 div.sk-parallel-item::before {content: \"\";position: absolute;border-left: 1px solid gray;box-sizing: border-box;top: 0;bottom: 0;left: 50%;z-index: -1;}#sk-container-id-4 div.sk-parallel-item {display: flex;flex-direction: column;z-index: 1;position: relative;background-color: white;}#sk-container-id-4 div.sk-parallel-item:first-child::after {align-self: flex-end;width: 50%;}#sk-container-id-4 div.sk-parallel-item:last-child::after {align-self: flex-start;width: 50%;}#sk-container-id-4 div.sk-parallel-item:only-child::after {width: 0;}#sk-container-id-4 div.sk-dashed-wrapped {border: 1px dashed gray;margin: 0 0.4em 0.5em 0.4em;box-sizing: border-box;padding-bottom: 0.4em;background-color: white;}#sk-container-id-4 div.sk-label label {font-family: monospace;font-weight: bold;display: inline-block;line-height: 1.2em;}#sk-container-id-4 div.sk-label-container {text-align: center;}#sk-container-id-4 div.sk-container {/* jupyter's `normalize.less` sets `[hidden] { display: none; }` but bootstrap.min.css set `[hidden] { display: none !important; }` so we also need the `!important` here to be able to override the default hidden behavior on the sphinx rendered scikit-learn.org. See: https://github.com/scikit-learn/scikit-learn/issues/21755 */display: inline-block !important;position: relative;}#sk-container-id-4 div.sk-text-repr-fallback {display: none;}</style><div id=\"sk-container-id-4\" class=\"sk-top-container\"><div class=\"sk-text-repr-fallback\"><pre>RandomForestRegressor(max_depth=50, n_estimators=50, random_state=51)</pre><b>In a Jupyter environment, please rerun this cell to show the HTML representation or trust the notebook. <br />On GitHub, the HTML representation is unable to render, please try loading this page with nbviewer.org.</b></div><div class=\"sk-container\" hidden><div class=\"sk-item\"><div class=\"sk-estimator sk-toggleable\"><input class=\"sk-toggleable__control sk-hidden--visually\" id=\"sk-estimator-id-4\" type=\"checkbox\" checked><label for=\"sk-estimator-id-4\" class=\"sk-toggleable__label sk-toggleable__label-arrow\">RandomForestRegressor</label><div class=\"sk-toggleable__content\"><pre>RandomForestRegressor(max_depth=50, n_estimators=50, random_state=51)</pre></div></div></div></div></div>"
      ],
      "text/plain": [
       "RandomForestRegressor(max_depth=50, n_estimators=50, random_state=51)"
      ]
     },
     "execution_count": 65,
     "metadata": {},
     "output_type": "execute_result"
    }
   ],
   "source": [
    "best_model5 = model5.best_estimator_\n",
    "best_model5.fit(X_train, y_train)"
   ]
  },
  {
   "cell_type": "code",
   "execution_count": 66,
   "metadata": {},
   "outputs": [
    {
     "name": "stdout",
     "output_type": "stream",
     "text": [
      "0.999341616848391\n",
      "0.9962975501461497\n"
     ]
    }
   ],
   "source": [
    "print(best_model5.score(X_train, y_train))\n",
    "\n",
    "print(best_model5.score(X_test, y_test))"
   ]
  },
  {
   "cell_type": "code",
   "execution_count": 67,
   "metadata": {},
   "outputs": [],
   "source": [
    "y_pred_5 = best_model5.predict(X_train)"
   ]
  },
  {
   "cell_type": "code",
   "execution_count": 71,
   "metadata": {},
   "outputs": [
    {
     "data": {
      "text/plain": [
       "4076.171018926899"
      ]
     },
     "execution_count": 71,
     "metadata": {},
     "output_type": "execute_result"
    }
   ],
   "source": [
    "mae5 = metrics.mean_absolute_error(y_train, y_pred_5)\n",
    "mae5"
   ]
  },
  {
   "cell_type": "code",
   "execution_count": 69,
   "metadata": {},
   "outputs": [
    {
     "data": {
      "text/plain": [
       "1169669717.4548814"
      ]
     },
     "execution_count": 69,
     "metadata": {},
     "output_type": "execute_result"
    }
   ],
   "source": [
    "mse5 = metrics.mean_squared_error(y_train, y_pred_5)\n",
    "mse5"
   ]
  },
  {
   "cell_type": "code",
   "execution_count": 70,
   "metadata": {},
   "outputs": [
    {
     "data": {
      "text/plain": [
       "34200.43446295502"
      ]
     },
     "execution_count": 70,
     "metadata": {},
     "output_type": "execute_result"
    }
   ],
   "source": [
    "rmse5 = np.sqrt(mse5)\n",
    "rmse5"
   ]
  },
  {
   "cell_type": "markdown",
   "metadata": {},
   "source": [
    "### Pickling  Models"
   ]
  },
  {
   "cell_type": "markdown",
   "metadata": {},
   "source": [
    "After checking the MAE, MSE, and RMSE for each model, the best model appears to be the Decision Tree Regression model. This is the model that will be used to create the predictive web app."
   ]
  },
  {
   "cell_type": "code",
   "execution_count": 58,
   "metadata": {},
   "outputs": [],
   "source": [
    "with open('../models/co2_prediction_dt.pkl', 'wb') as f:\n",
    "    pickle.dump(best_model4, f)"
   ]
  },
  {
   "cell_type": "code",
   "execution_count": 72,
   "metadata": {},
   "outputs": [],
   "source": [
    "with open('../models/co2_prediction_rf.pkl', 'wb') as f:\n",
    "    pickle.dump(best_model5, f)"
   ]
  }
 ],
 "metadata": {
  "kernelspec": {
   "display_name": "base",
   "language": "python",
   "name": "python3"
  },
  "language_info": {
   "codemirror_mode": {
    "name": "ipython",
    "version": 3
   },
   "file_extension": ".py",
   "mimetype": "text/x-python",
   "name": "python",
   "nbconvert_exporter": "python",
   "pygments_lexer": "ipython3",
   "version": "3.11.5"
  }
 },
 "nbformat": 4,
 "nbformat_minor": 2
}
