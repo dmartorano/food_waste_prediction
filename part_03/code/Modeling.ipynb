{
 "cells": [
  {
   "cell_type": "markdown",
   "metadata": {},
   "source": [
    "# Modeling"
   ]
  },
  {
   "cell_type": "markdown",
   "metadata": {},
   "source": [
    "## Imports"
   ]
  },
  {
   "cell_type": "code",
   "execution_count": 8,
   "metadata": {},
   "outputs": [],
   "source": [
    "import numpy as np\n",
    "import pandas as pd\n",
    "import matplotlib.pyplot as plt\n",
    "\n",
    "from sklearn.model_selection import train_test_split, GridSearchCV, cross_val_score\n",
    "from sklearn.preprocessing import StandardScaler\n",
    "from sklearn.linear_model import LinearRegression, Ridge, RidgeCV, Lasso, LassoCV\n",
    "from sklearn.svm import SVR\n",
    "from sklearn.ensemble import RandomForestRegressor\n",
    "from sklearn.pipeline import Pipeline"
   ]
  },
  {
   "cell_type": "code",
   "execution_count": 2,
   "metadata": {},
   "outputs": [],
   "source": [
    "df = pd.read_csv(\"../data/clean_us_food_waste.csv\")"
   ]
  },
  {
   "cell_type": "code",
   "execution_count": 3,
   "metadata": {},
   "outputs": [
    {
     "data": {
      "text/html": [
       "<div>\n",
       "<style scoped>\n",
       "    .dataframe tbody tr th:only-of-type {\n",
       "        vertical-align: middle;\n",
       "    }\n",
       "\n",
       "    .dataframe tbody tr th {\n",
       "        vertical-align: top;\n",
       "    }\n",
       "\n",
       "    .dataframe thead th {\n",
       "        text-align: right;\n",
       "    }\n",
       "</style>\n",
       "<table border=\"1\" class=\"dataframe\">\n",
       "  <thead>\n",
       "    <tr style=\"text-align: right;\">\n",
       "      <th></th>\n",
       "      <th>year</th>\n",
       "      <th>tons_surplus</th>\n",
       "      <th>tons_supply</th>\n",
       "      <th>us_dollars_surplus</th>\n",
       "      <th>tons_waste</th>\n",
       "      <th>tons_uneaten</th>\n",
       "      <th>tons_inedible_parts</th>\n",
       "      <th>tons_not_fit_for_human_consumption</th>\n",
       "      <th>tons_donated</th>\n",
       "      <th>tons_biomaterial_processing</th>\n",
       "      <th>...</th>\n",
       "      <th>sector_residential</th>\n",
       "      <th>sector_retail</th>\n",
       "      <th>food_type_breads_&amp;_bakery</th>\n",
       "      <th>food_type_dairy_&amp;_eggs</th>\n",
       "      <th>food_type_dry_goods</th>\n",
       "      <th>food_type_fresh_meat_&amp;_seafood</th>\n",
       "      <th>food_type_frozen</th>\n",
       "      <th>food_type_prepared_foods</th>\n",
       "      <th>food_type_produce</th>\n",
       "      <th>food_type_ready-to-drink_beverages</th>\n",
       "    </tr>\n",
       "  </thead>\n",
       "  <tbody>\n",
       "    <tr>\n",
       "      <th>0</th>\n",
       "      <td>2022</td>\n",
       "      <td>1.697411e+05</td>\n",
       "      <td>5.675411e+06</td>\n",
       "      <td>2.044225e+08</td>\n",
       "      <td>1.697411e+05</td>\n",
       "      <td>1.697411e+05</td>\n",
       "      <td>0.000000</td>\n",
       "      <td>8.291764e+04</td>\n",
       "      <td>0.000000</td>\n",
       "      <td>0.0</td>\n",
       "      <td>...</td>\n",
       "      <td>0</td>\n",
       "      <td>0</td>\n",
       "      <td>0</td>\n",
       "      <td>0</td>\n",
       "      <td>1</td>\n",
       "      <td>0</td>\n",
       "      <td>0</td>\n",
       "      <td>0</td>\n",
       "      <td>0</td>\n",
       "      <td>0</td>\n",
       "    </tr>\n",
       "    <tr>\n",
       "      <th>1</th>\n",
       "      <td>2022</td>\n",
       "      <td>1.759466e+03</td>\n",
       "      <td>7.137274e+04</td>\n",
       "      <td>1.592708e+06</td>\n",
       "      <td>1.697192e+03</td>\n",
       "      <td>1.754997e+03</td>\n",
       "      <td>0.000000</td>\n",
       "      <td>8.444716e+02</td>\n",
       "      <td>4.469649</td>\n",
       "      <td>0.0</td>\n",
       "      <td>...</td>\n",
       "      <td>0</td>\n",
       "      <td>0</td>\n",
       "      <td>0</td>\n",
       "      <td>0</td>\n",
       "      <td>1</td>\n",
       "      <td>0</td>\n",
       "      <td>0</td>\n",
       "      <td>0</td>\n",
       "      <td>0</td>\n",
       "      <td>0</td>\n",
       "    </tr>\n",
       "    <tr>\n",
       "      <th>2</th>\n",
       "      <td>2022</td>\n",
       "      <td>2.754374e+06</td>\n",
       "      <td>7.201575e+06</td>\n",
       "      <td>1.764610e+09</td>\n",
       "      <td>2.169203e+06</td>\n",
       "      <td>2.712374e+06</td>\n",
       "      <td>275437.430500</td>\n",
       "      <td>1.462724e+06</td>\n",
       "      <td>41999.936570</td>\n",
       "      <td>0.0</td>\n",
       "      <td>...</td>\n",
       "      <td>0</td>\n",
       "      <td>0</td>\n",
       "      <td>0</td>\n",
       "      <td>0</td>\n",
       "      <td>0</td>\n",
       "      <td>0</td>\n",
       "      <td>0</td>\n",
       "      <td>0</td>\n",
       "      <td>1</td>\n",
       "      <td>0</td>\n",
       "    </tr>\n",
       "    <tr>\n",
       "      <th>3</th>\n",
       "      <td>2022</td>\n",
       "      <td>1.220409e+04</td>\n",
       "      <td>3.828162e+04</td>\n",
       "      <td>1.206312e+07</td>\n",
       "      <td>9.641038e+03</td>\n",
       "      <td>1.202013e+04</td>\n",
       "      <td>854.285977</td>\n",
       "      <td>6.462121e+03</td>\n",
       "      <td>183.959352</td>\n",
       "      <td>0.0</td>\n",
       "      <td>...</td>\n",
       "      <td>0</td>\n",
       "      <td>0</td>\n",
       "      <td>0</td>\n",
       "      <td>0</td>\n",
       "      <td>0</td>\n",
       "      <td>0</td>\n",
       "      <td>0</td>\n",
       "      <td>0</td>\n",
       "      <td>1</td>\n",
       "      <td>0</td>\n",
       "    </tr>\n",
       "    <tr>\n",
       "      <th>4</th>\n",
       "      <td>2022</td>\n",
       "      <td>3.942489e+03</td>\n",
       "      <td>3.957525e+04</td>\n",
       "      <td>4.730987e+06</td>\n",
       "      <td>2.870689e+03</td>\n",
       "      <td>3.867242e+03</td>\n",
       "      <td>2365.493625</td>\n",
       "      <td>2.544075e+03</td>\n",
       "      <td>75.247693</td>\n",
       "      <td>0.0</td>\n",
       "      <td>...</td>\n",
       "      <td>0</td>\n",
       "      <td>0</td>\n",
       "      <td>0</td>\n",
       "      <td>0</td>\n",
       "      <td>0</td>\n",
       "      <td>0</td>\n",
       "      <td>0</td>\n",
       "      <td>0</td>\n",
       "      <td>1</td>\n",
       "      <td>0</td>\n",
       "    </tr>\n",
       "  </tbody>\n",
       "</table>\n",
       "<p>5 rows × 37 columns</p>\n",
       "</div>"
      ],
      "text/plain": [
       "   year  tons_surplus   tons_supply  us_dollars_surplus    tons_waste  \\\n",
       "0  2022  1.697411e+05  5.675411e+06        2.044225e+08  1.697411e+05   \n",
       "1  2022  1.759466e+03  7.137274e+04        1.592708e+06  1.697192e+03   \n",
       "2  2022  2.754374e+06  7.201575e+06        1.764610e+09  2.169203e+06   \n",
       "3  2022  1.220409e+04  3.828162e+04        1.206312e+07  9.641038e+03   \n",
       "4  2022  3.942489e+03  3.957525e+04        4.730987e+06  2.870689e+03   \n",
       "\n",
       "   tons_uneaten  tons_inedible_parts  tons_not_fit_for_human_consumption  \\\n",
       "0  1.697411e+05             0.000000                        8.291764e+04   \n",
       "1  1.754997e+03             0.000000                        8.444716e+02   \n",
       "2  2.712374e+06        275437.430500                        1.462724e+06   \n",
       "3  1.202013e+04           854.285977                        6.462121e+03   \n",
       "4  3.867242e+03          2365.493625                        2.544075e+03   \n",
       "\n",
       "   tons_donated  tons_biomaterial_processing  ...  sector_residential  \\\n",
       "0      0.000000                          0.0  ...                   0   \n",
       "1      4.469649                          0.0  ...                   0   \n",
       "2  41999.936570                          0.0  ...                   0   \n",
       "3    183.959352                          0.0  ...                   0   \n",
       "4     75.247693                          0.0  ...                   0   \n",
       "\n",
       "   sector_retail  food_type_breads_&_bakery  food_type_dairy_&_eggs  \\\n",
       "0              0                          0                       0   \n",
       "1              0                          0                       0   \n",
       "2              0                          0                       0   \n",
       "3              0                          0                       0   \n",
       "4              0                          0                       0   \n",
       "\n",
       "   food_type_dry_goods  food_type_fresh_meat_&_seafood  food_type_frozen  \\\n",
       "0                    1                               0                 0   \n",
       "1                    1                               0                 0   \n",
       "2                    0                               0                 0   \n",
       "3                    0                               0                 0   \n",
       "4                    0                               0                 0   \n",
       "\n",
       "   food_type_prepared_foods  food_type_produce  \\\n",
       "0                         0                  0   \n",
       "1                         0                  0   \n",
       "2                         0                  1   \n",
       "3                         0                  1   \n",
       "4                         0                  1   \n",
       "\n",
       "   food_type_ready-to-drink_beverages  \n",
       "0                                   0  \n",
       "1                                   0  \n",
       "2                                   0  \n",
       "3                                   0  \n",
       "4                                   0  \n",
       "\n",
       "[5 rows x 37 columns]"
      ]
     },
     "execution_count": 3,
     "metadata": {},
     "output_type": "execute_result"
    }
   ],
   "source": [
    "df.head()"
   ]
  },
  {
   "cell_type": "code",
   "execution_count": 45,
   "metadata": {},
   "outputs": [],
   "source": [
    "X = df[[\"tons_supply\", \"tons_donated\", \"tons_biomaterial_processing\", \"tons_animal_feed\", \"tons_anaerobically_digested\", \"tons_composted\", \"tons_incinerated\", \"tons_land_application\", \"tons_landfilled\", \"tons_sewer\", \"tons_refuse_discards\", \"sector_farm\", \"sector_foodservice\", \"sector_manufacturing\", \"sector_residential\", \"sector_retail\", \"food_type_breads_&_bakery\", \"food_type_dairy_&_eggs\", \"food_type_dry_goods\", \"food_type_fresh_meat_&_seafood\", \"food_type_frozen\", \"food_type_prepared_foods\", \"food_type_produce\", \"food_type_ready-to-drink_beverages\"]]\n",
    "y = df[\"total_mtco2e_footprint\"]"
   ]
  },
  {
   "cell_type": "code",
   "execution_count": 46,
   "metadata": {},
   "outputs": [],
   "source": [
    "X_train, X_test, y_train, y_test = train_test_split(X, y, random_state=51)"
   ]
  },
  {
   "cell_type": "code",
   "execution_count": 47,
   "metadata": {},
   "outputs": [],
   "source": [
    "ss = StandardScaler()\n",
    "\n",
    "X_train_ss = ss.fit_transform(X_train)\n",
    "X_test_ss = ss.transform(X_test)"
   ]
  },
  {
   "cell_type": "code",
   "execution_count": 48,
   "metadata": {},
   "outputs": [],
   "source": [
    "lr = LinearRegression()\n",
    "\n",
    "lasso = Lasso()\n",
    "\n",
    "ridge = Ridge()\n",
    "\n",
    "svr = SVR()\n",
    "\n",
    "rfr = RandomForestRegressor()"
   ]
  },
  {
   "cell_type": "code",
   "execution_count": 49,
   "metadata": {},
   "outputs": [
    {
     "name": "stdout",
     "output_type": "stream",
     "text": [
      "0.946053823684637\n"
     ]
    },
    {
     "name": "stderr",
     "output_type": "stream",
     "text": [
      "c:\\Users\\domin.DESKTOP-S15RK6B\\anaconda3\\Lib\\site-packages\\sklearn\\linear_model\\_coordinate_descent.py:628: ConvergenceWarning: Objective did not converge. You might want to increase the number of iterations, check the scale of the features or consider increasing regularisation. Duality gap: 3.222e+14, tolerance: 1.266e+12\n",
      "  model = cd_fast.enet_coordinate_descent(\n",
      "c:\\Users\\domin.DESKTOP-S15RK6B\\anaconda3\\Lib\\site-packages\\sklearn\\linear_model\\_coordinate_descent.py:628: ConvergenceWarning: Objective did not converge. You might want to increase the number of iterations, check the scale of the features or consider increasing regularisation. Duality gap: 2.741e+14, tolerance: 1.259e+12\n",
      "  model = cd_fast.enet_coordinate_descent(\n",
      "c:\\Users\\domin.DESKTOP-S15RK6B\\anaconda3\\Lib\\site-packages\\sklearn\\linear_model\\_coordinate_descent.py:628: ConvergenceWarning: Objective did not converge. You might want to increase the number of iterations, check the scale of the features or consider increasing regularisation. Duality gap: 2.781e+14, tolerance: 1.108e+12\n",
      "  model = cd_fast.enet_coordinate_descent(\n",
      "c:\\Users\\domin.DESKTOP-S15RK6B\\anaconda3\\Lib\\site-packages\\sklearn\\linear_model\\_coordinate_descent.py:628: ConvergenceWarning: Objective did not converge. You might want to increase the number of iterations, check the scale of the features or consider increasing regularisation. Duality gap: 3.260e+14, tolerance: 1.354e+12\n",
      "  model = cd_fast.enet_coordinate_descent(\n",
      "c:\\Users\\domin.DESKTOP-S15RK6B\\anaconda3\\Lib\\site-packages\\sklearn\\linear_model\\_coordinate_descent.py:628: ConvergenceWarning: Objective did not converge. You might want to increase the number of iterations, check the scale of the features or consider increasing regularisation. Duality gap: 2.912e+14, tolerance: 1.276e+12\n",
      "  model = cd_fast.enet_coordinate_descent(\n",
      "c:\\Users\\domin.DESKTOP-S15RK6B\\anaconda3\\Lib\\site-packages\\sklearn\\linear_model\\_ridge.py:211: LinAlgWarning: Ill-conditioned matrix (rcond=2.04723e-18): result may not be accurate.\n",
      "  return linalg.solve(A, Xy, assume_a=\"pos\", overwrite_a=True).T\n",
      "c:\\Users\\domin.DESKTOP-S15RK6B\\anaconda3\\Lib\\site-packages\\sklearn\\linear_model\\_ridge.py:211: LinAlgWarning: Ill-conditioned matrix (rcond=2.57204e-18): result may not be accurate.\n",
      "  return linalg.solve(A, Xy, assume_a=\"pos\", overwrite_a=True).T\n",
      "c:\\Users\\domin.DESKTOP-S15RK6B\\anaconda3\\Lib\\site-packages\\sklearn\\linear_model\\_ridge.py:211: LinAlgWarning: Ill-conditioned matrix (rcond=1.77492e-18): result may not be accurate.\n",
      "  return linalg.solve(A, Xy, assume_a=\"pos\", overwrite_a=True).T\n",
      "c:\\Users\\domin.DESKTOP-S15RK6B\\anaconda3\\Lib\\site-packages\\sklearn\\linear_model\\_ridge.py:211: LinAlgWarning: Ill-conditioned matrix (rcond=2.00734e-18): result may not be accurate.\n",
      "  return linalg.solve(A, Xy, assume_a=\"pos\", overwrite_a=True).T\n",
      "c:\\Users\\domin.DESKTOP-S15RK6B\\anaconda3\\Lib\\site-packages\\sklearn\\linear_model\\_ridge.py:211: LinAlgWarning: Ill-conditioned matrix (rcond=1.62287e-18): result may not be accurate.\n",
      "  return linalg.solve(A, Xy, assume_a=\"pos\", overwrite_a=True).T\n"
     ]
    },
    {
     "name": "stdout",
     "output_type": "stream",
     "text": [
      "0.9460537427439917\n",
      "0.9460536533580072\n",
      "-0.07093006850058425\n",
      "0.9941204837878065\n"
     ]
    }
   ],
   "source": [
    "print(cross_val_score(lr, X_train, y_train, cv=5).mean())\n",
    "\n",
    "print(cross_val_score(lasso, X_train, y_train, cv=5).mean())\n",
    "\n",
    "print(cross_val_score(ridge, X_train, y_train, cv=5).mean())\n",
    "\n",
    "print(cross_val_score(svr, X_train, y_train, cv=5).mean())\n",
    "\n",
    "print(cross_val_score(rfr, X_train, y_train, cv=5).mean())"
   ]
  },
  {
   "cell_type": "code",
   "execution_count": 50,
   "metadata": {},
   "outputs": [],
   "source": [
    "model1 = lr.fit(X_train, y_train)"
   ]
  },
  {
   "cell_type": "code",
   "execution_count": 51,
   "metadata": {},
   "outputs": [
    {
     "name": "stdout",
     "output_type": "stream",
     "text": [
      "0.9498784324901491\n",
      "0.9670236397882129\n"
     ]
    }
   ],
   "source": [
    "print(model1.score(X_train, y_train))\n",
    "\n",
    "print(model1.score(X_test, y_test))"
   ]
  },
  {
   "cell_type": "code",
   "execution_count": null,
   "metadata": {},
   "outputs": [],
   "source": []
  },
  {
   "cell_type": "code",
   "execution_count": null,
   "metadata": {},
   "outputs": [],
   "source": []
  },
  {
   "cell_type": "code",
   "execution_count": 52,
   "metadata": {},
   "outputs": [
    {
     "name": "stderr",
     "output_type": "stream",
     "text": [
      "c:\\Users\\domin.DESKTOP-S15RK6B\\anaconda3\\Lib\\site-packages\\sklearn\\linear_model\\_coordinate_descent.py:628: ConvergenceWarning: Objective did not converge. You might want to increase the number of iterations, check the scale of the features or consider increasing regularisation. Duality gap: 3.856e+14, tolerance: 1.566e+12\n",
      "  model = cd_fast.enet_coordinate_descent(\n"
     ]
    }
   ],
   "source": [
    "model2 = lasso.fit(X_train, y_train)"
   ]
  },
  {
   "cell_type": "code",
   "execution_count": 53,
   "metadata": {},
   "outputs": [
    {
     "name": "stdout",
     "output_type": "stream",
     "text": [
      "0.9498784322535535\n",
      "0.9670237650654915\n"
     ]
    }
   ],
   "source": [
    "print(model2.score(X_train, y_train))\n",
    "\n",
    "print(model2.score(X_test, y_test))"
   ]
  },
  {
   "cell_type": "code",
   "execution_count": null,
   "metadata": {},
   "outputs": [],
   "source": []
  },
  {
   "cell_type": "code",
   "execution_count": null,
   "metadata": {},
   "outputs": [],
   "source": []
  },
  {
   "cell_type": "code",
   "execution_count": 54,
   "metadata": {},
   "outputs": [
    {
     "name": "stderr",
     "output_type": "stream",
     "text": [
      "c:\\Users\\domin.DESKTOP-S15RK6B\\anaconda3\\Lib\\site-packages\\sklearn\\linear_model\\_ridge.py:211: LinAlgWarning: Ill-conditioned matrix (rcond=1.56657e-18): result may not be accurate.\n",
      "  return linalg.solve(A, Xy, assume_a=\"pos\", overwrite_a=True).T\n"
     ]
    }
   ],
   "source": [
    "model3 = ridge.fit(X_train, y_train)"
   ]
  },
  {
   "cell_type": "code",
   "execution_count": 55,
   "metadata": {},
   "outputs": [
    {
     "name": "stdout",
     "output_type": "stream",
     "text": [
      "0.9498784059206616\n",
      "0.9670253574351703\n"
     ]
    }
   ],
   "source": [
    "print(model3.score(X_train, y_train))\n",
    "\n",
    "print(model3.score(X_test, y_test))"
   ]
  },
  {
   "cell_type": "code",
   "execution_count": null,
   "metadata": {},
   "outputs": [],
   "source": []
  },
  {
   "cell_type": "code",
   "execution_count": null,
   "metadata": {},
   "outputs": [],
   "source": []
  },
  {
   "cell_type": "code",
   "execution_count": 56,
   "metadata": {},
   "outputs": [],
   "source": [
    "model4 = svr.fit(X_train, y_train)"
   ]
  },
  {
   "cell_type": "code",
   "execution_count": 57,
   "metadata": {},
   "outputs": [
    {
     "name": "stdout",
     "output_type": "stream",
     "text": [
      "-0.06824288652194554\n",
      "-0.061705583378103945\n"
     ]
    }
   ],
   "source": [
    "print(model4.score(X_train, y_train))\n",
    "\n",
    "print(model4.score(X_test, y_test))"
   ]
  },
  {
   "cell_type": "code",
   "execution_count": null,
   "metadata": {},
   "outputs": [],
   "source": []
  },
  {
   "cell_type": "code",
   "execution_count": null,
   "metadata": {},
   "outputs": [],
   "source": []
  },
  {
   "cell_type": "code",
   "execution_count": 58,
   "metadata": {},
   "outputs": [],
   "source": [
    "model5 = rfr.fit(X_train, y_train)"
   ]
  },
  {
   "cell_type": "code",
   "execution_count": 59,
   "metadata": {},
   "outputs": [
    {
     "name": "stdout",
     "output_type": "stream",
     "text": [
      "0.9993428815661902\n",
      "0.996903490401427\n"
     ]
    }
   ],
   "source": [
    "print(model5.score(X_train, y_train))\n",
    "\n",
    "print(model5.score(X_test, y_test))"
   ]
  },
  {
   "cell_type": "code",
   "execution_count": null,
   "metadata": {},
   "outputs": [],
   "source": []
  },
  {
   "cell_type": "code",
   "execution_count": null,
   "metadata": {},
   "outputs": [],
   "source": []
  }
 ],
 "metadata": {
  "kernelspec": {
   "display_name": "base",
   "language": "python",
   "name": "python3"
  },
  "language_info": {
   "codemirror_mode": {
    "name": "ipython",
    "version": 3
   },
   "file_extension": ".py",
   "mimetype": "text/x-python",
   "name": "python",
   "nbconvert_exporter": "python",
   "pygments_lexer": "ipython3",
   "version": "3.11.5"
  }
 },
 "nbformat": 4,
 "nbformat_minor": 2
}
